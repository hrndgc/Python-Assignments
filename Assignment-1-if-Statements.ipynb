{
 "cells": [
  {
   "cell_type": "code",
   "execution_count": 2,
   "metadata": {},
   "outputs": [
    {
     "name": "stdout",
     "output_type": "stream",
     "text": [
      "Please enter your name: resul\n",
      "Hello, Resul! See you later.\n"
     ]
    }
   ],
   "source": [
    "name = input(\"Enter your name: \").title().strip()\n",
    "if name == \"Harun\":\n",
    "    print(\"Hello, Harun! The password is : qwerty@27\")\n",
    "else:\n",
    "    print( \"Hello, {}! See you later.\".format(name))"
   ]
  }
 ],
 "metadata": {
  "kernelspec": {
   "display_name": "Python 3",
   "language": "python",
   "name": "python3"
  },
  "language_info": {
   "codemirror_mode": {
    "name": "ipython",
    "version": 3
   },
   "file_extension": ".py",
   "mimetype": "text/x-python",
   "name": "python",
   "nbconvert_exporter": "python",
   "pygments_lexer": "ipython3",
   "version": "3.7.6"
  }
 },
 "nbformat": 4,
 "nbformat_minor": 4
}