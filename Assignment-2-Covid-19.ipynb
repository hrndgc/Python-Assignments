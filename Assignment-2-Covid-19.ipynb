{
 "cells": [
  {
   "cell_type": "code",
   "execution_count": 34,
   "metadata": {},
   "outputs": [
    {
     "name": "stdout",
     "output_type": "stream",
     "text": [
      "Are you a cigarette addict older than 75 years old?: yes\n",
      "Do you have a severe chronic disease?: no\n",
      "Is your immune system too weak?: no\n",
      "You are in risky group\n"
     ]
    }
   ],
   "source": [
    "age = input(\"Are you a cigarette addict older than 75 years old?: \").title().strip()\n",
    "chronic = input(\"Do you have a severe chronic disease?: \").title().strip()\n",
    "immune = input(\"Is your immune system too weak?: \").title().strip()\n",
    "\n",
    "if age == \"Yes\":\n",
    "    age = True\n",
    "else:\n",
    "    age = False\n",
    "if chronic == \"Yes\":\n",
    "    chronic = True\n",
    "else:\n",
    "    chronic = False\n",
    "if immune == \"Yes\":\n",
    "    immune = True\n",
    "else:\n",
    "    immune = False\n",
    "risk = age or chronic or immune\n",
    "\n",
    "if risk == True:\n",
    "    print(\"You are in risky group\")\n",
    "else:\n",
    "    print(\"You are not in risky group\")"
   ]
  }
 ],
 "metadata": {
  "kernelspec": {
   "display_name": "Python 3",
   "language": "python",
   "name": "python3"
  },
  "language_info": {
   "codemirror_mode": {
    "name": "ipython",
    "version": 3
   },
   "file_extension": ".py",
   "mimetype": "text/x-python",
   "name": "python",
   "nbconvert_exporter": "python",
   "pygments_lexer": "ipython3",
   "version": "3.7.6"
  }
 },
 "nbformat": 4,
 "nbformat_minor": 4
}
