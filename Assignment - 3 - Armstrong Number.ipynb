{
 "cells": [
  {
   "cell_type": "code",
   "execution_count": 1,
   "metadata": {},
   "outputs": [
    {
     "name": "stdout",
     "output_type": "stream",
     "text": [
      "Please enter a number: 9474\n",
      "9474 is an Armstrong number\n"
     ]
    }
   ],
   "source": [
    "number = input(\"Please enter a number: \")\n",
    "number_list = list(number)\n",
    "total = 0\n",
    "j = 0\n",
    "if  number.isdigit():\n",
    "    while j <= (len(number_list)-1):\n",
    "            total += int(number_list[j])**len(number_list)\n",
    "            j += 1\n",
    "    if int(number) == total:\n",
    "            print(\"{} is an Armstrong number\".format(number))\n",
    "    else :\n",
    "            print(\"{} is not an Armstrong number\".format(number))\n",
    "\n",
    "\n",
    "else:\n",
    "    print(\"It is an invalid entry. Don't use non-numeric, float, or negative values!\")"
   ]
  },
  {
   "cell_type": "code",
   "execution_count": null,
   "metadata": {},
   "outputs": [],
   "source": []
  }
 ],
 "metadata": {
  "kernelspec": {
   "display_name": "Python 3",
   "language": "python",
   "name": "python3"
  },
  "language_info": {
   "codemirror_mode": {
    "name": "ipython",
    "version": 3
   },
   "file_extension": ".py",
   "mimetype": "text/x-python",
   "name": "python",
   "nbconvert_exporter": "python",
   "pygments_lexer": "ipython3",
   "version": "3.7.6"
  }
 },
 "nbformat": 4,
 "nbformat_minor": 4
}
