{
 "cells": [
  {
   "cell_type": "code",
   "execution_count": 12,
   "metadata": {},
   "outputs": [
    {
     "name": "stdout",
     "output_type": "stream",
     "text": [
      "Please enter a number: 73\n",
      "73 is  a prime number\n"
     ]
    }
   ],
   "source": [
    "number = input(\"Please enter a number: \")\n",
    "count = False\n",
    "if  number.isdigit():\n",
    "    a = int(number)\n",
    "    for i in range(2, a+1):\n",
    "        if a!=i and a%i==0:\n",
    "            count = True\n",
    "            break\n",
    "        else:\n",
    "            count = False\n",
    "    print(a, \"is\", count*\"not\", \"a prime number\")\n",
    "\n",
    "\n",
    "else:\n",
    "    print(\"It is an invalid entry. Don't use non-numeric, float, or negative values!\")"
   ]
  },
  {
   "cell_type": "code",
   "execution_count": null,
   "metadata": {},
   "outputs": [],
   "source": []
  }
 ],
 "metadata": {
  "kernelspec": {
   "display_name": "Python 3",
   "language": "python",
   "name": "python3"
  },
  "language_info": {
   "codemirror_mode": {
    "name": "ipython",
    "version": 3
   },
   "file_extension": ".py",
   "mimetype": "text/x-python",
   "name": "python",
   "nbconvert_exporter": "python",
   "pygments_lexer": "ipython3",
   "version": "3.7.6"
  }
 },
 "nbformat": 4,
 "nbformat_minor": 4
}
